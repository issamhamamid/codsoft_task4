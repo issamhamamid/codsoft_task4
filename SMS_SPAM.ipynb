{
 "cells": [
  {
   "cell_type": "code",
   "execution_count": 1,
   "id": "initial_id",
   "metadata": {
    "ExecuteTime": {
     "end_time": "2023-11-23T18:48:21.288956300Z",
     "start_time": "2023-11-23T18:48:19.282306800Z"
    }
   },
   "outputs": [],
   "source": [
    "import pandas as pd"
   ]
  },
  {
   "cell_type": "code",
   "execution_count": 3,
   "id": "bccafbe825e0c471",
   "metadata": {
    "ExecuteTime": {
     "end_time": "2023-10-31T13:20:07.784552100Z",
     "start_time": "2023-10-31T13:20:07.766088900Z"
    }
   },
   "outputs": [],
   "source": [
    "import numpy as np"
   ]
  },
  {
   "cell_type": "code",
   "execution_count": 4,
   "id": "591bd5ed1684df9f",
   "metadata": {
    "ExecuteTime": {
     "end_time": "2023-10-31T13:20:08.074454800Z",
     "start_time": "2023-10-31T13:20:08.054657Z"
    }
   },
   "outputs": [],
   "source": [
    "df = pd.read_csv('spam.csv', encoding='ISO-8859-1')"
   ]
  },
  {
   "cell_type": "code",
   "execution_count": 5,
   "id": "4b2e90ba23a71214",
   "metadata": {
    "ExecuteTime": {
     "end_time": "2023-10-31T13:20:08.346162300Z",
     "start_time": "2023-10-31T13:20:08.330583900Z"
    }
   },
   "outputs": [
    {
     "data": {
      "text/html": [
       "<div>\n",
       "<style scoped>\n",
       "    .dataframe tbody tr th:only-of-type {\n",
       "        vertical-align: middle;\n",
       "    }\n",
       "\n",
       "    .dataframe tbody tr th {\n",
       "        vertical-align: top;\n",
       "    }\n",
       "\n",
       "    .dataframe thead th {\n",
       "        text-align: right;\n",
       "    }\n",
       "</style>\n",
       "<table border=\"1\" class=\"dataframe\">\n",
       "  <thead>\n",
       "    <tr style=\"text-align: right;\">\n",
       "      <th></th>\n",
       "      <th>v1</th>\n",
       "      <th>v2</th>\n",
       "      <th>Unnamed: 2</th>\n",
       "      <th>Unnamed: 3</th>\n",
       "      <th>Unnamed: 4</th>\n",
       "    </tr>\n",
       "  </thead>\n",
       "  <tbody>\n",
       "    <tr>\n",
       "      <th>0</th>\n",
       "      <td>ham</td>\n",
       "      <td>Go until jurong point, crazy.. Available only ...</td>\n",
       "      <td>NaN</td>\n",
       "      <td>NaN</td>\n",
       "      <td>NaN</td>\n",
       "    </tr>\n",
       "    <tr>\n",
       "      <th>1</th>\n",
       "      <td>ham</td>\n",
       "      <td>Ok lar... Joking wif u oni...</td>\n",
       "      <td>NaN</td>\n",
       "      <td>NaN</td>\n",
       "      <td>NaN</td>\n",
       "    </tr>\n",
       "    <tr>\n",
       "      <th>2</th>\n",
       "      <td>spam</td>\n",
       "      <td>Free entry in 2 a wkly comp to win FA Cup fina...</td>\n",
       "      <td>NaN</td>\n",
       "      <td>NaN</td>\n",
       "      <td>NaN</td>\n",
       "    </tr>\n",
       "    <tr>\n",
       "      <th>3</th>\n",
       "      <td>ham</td>\n",
       "      <td>U dun say so early hor... U c already then say...</td>\n",
       "      <td>NaN</td>\n",
       "      <td>NaN</td>\n",
       "      <td>NaN</td>\n",
       "    </tr>\n",
       "    <tr>\n",
       "      <th>4</th>\n",
       "      <td>ham</td>\n",
       "      <td>Nah I don't think he goes to usf, he lives aro...</td>\n",
       "      <td>NaN</td>\n",
       "      <td>NaN</td>\n",
       "      <td>NaN</td>\n",
       "    </tr>\n",
       "  </tbody>\n",
       "</table>\n",
       "</div>"
      ],
      "text/plain": [
       "     v1                                                 v2 Unnamed: 2  \\\n",
       "0   ham  Go until jurong point, crazy.. Available only ...        NaN   \n",
       "1   ham                      Ok lar... Joking wif u oni...        NaN   \n",
       "2  spam  Free entry in 2 a wkly comp to win FA Cup fina...        NaN   \n",
       "3   ham  U dun say so early hor... U c already then say...        NaN   \n",
       "4   ham  Nah I don't think he goes to usf, he lives aro...        NaN   \n",
       "\n",
       "  Unnamed: 3 Unnamed: 4  \n",
       "0        NaN        NaN  \n",
       "1        NaN        NaN  \n",
       "2        NaN        NaN  \n",
       "3        NaN        NaN  \n",
       "4        NaN        NaN  "
      ]
     },
     "execution_count": 5,
     "metadata": {},
     "output_type": "execute_result"
    }
   ],
   "source": [
    "df.head()"
   ]
  },
  {
   "cell_type": "markdown",
   "id": "f4d5018961e956f",
   "metadata": {},
   "source": [
    "<h1>Feature Engineering and data Cleaning<h1>"
   ]
  },
  {
   "cell_type": "code",
   "execution_count": 6,
   "id": "ed8956951140e110",
   "metadata": {
    "ExecuteTime": {
     "end_time": "2023-10-31T13:20:08.622698400Z",
     "start_time": "2023-10-31T13:20:08.592875400Z"
    }
   },
   "outputs": [],
   "source": [
    "df1 = df.drop(['Unnamed: 2' , 'Unnamed: 3' , 'Unnamed: 4'] , axis=1 )"
   ]
  },
  {
   "cell_type": "code",
   "execution_count": 7,
   "id": "cbbfbdc4cfe95d54",
   "metadata": {
    "ExecuteTime": {
     "end_time": "2023-10-31T13:20:08.992888300Z",
     "start_time": "2023-10-31T13:20:08.971871600Z"
    }
   },
   "outputs": [
    {
     "data": {
      "text/html": [
       "<div>\n",
       "<style scoped>\n",
       "    .dataframe tbody tr th:only-of-type {\n",
       "        vertical-align: middle;\n",
       "    }\n",
       "\n",
       "    .dataframe tbody tr th {\n",
       "        vertical-align: top;\n",
       "    }\n",
       "\n",
       "    .dataframe thead th {\n",
       "        text-align: right;\n",
       "    }\n",
       "</style>\n",
       "<table border=\"1\" class=\"dataframe\">\n",
       "  <thead>\n",
       "    <tr style=\"text-align: right;\">\n",
       "      <th></th>\n",
       "      <th>v1</th>\n",
       "      <th>v2</th>\n",
       "    </tr>\n",
       "  </thead>\n",
       "  <tbody>\n",
       "    <tr>\n",
       "      <th>0</th>\n",
       "      <td>ham</td>\n",
       "      <td>Go until jurong point, crazy.. Available only ...</td>\n",
       "    </tr>\n",
       "    <tr>\n",
       "      <th>1</th>\n",
       "      <td>ham</td>\n",
       "      <td>Ok lar... Joking wif u oni...</td>\n",
       "    </tr>\n",
       "    <tr>\n",
       "      <th>2</th>\n",
       "      <td>spam</td>\n",
       "      <td>Free entry in 2 a wkly comp to win FA Cup fina...</td>\n",
       "    </tr>\n",
       "    <tr>\n",
       "      <th>3</th>\n",
       "      <td>ham</td>\n",
       "      <td>U dun say so early hor... U c already then say...</td>\n",
       "    </tr>\n",
       "    <tr>\n",
       "      <th>4</th>\n",
       "      <td>ham</td>\n",
       "      <td>Nah I don't think he goes to usf, he lives aro...</td>\n",
       "    </tr>\n",
       "  </tbody>\n",
       "</table>\n",
       "</div>"
      ],
      "text/plain": [
       "     v1                                                 v2\n",
       "0   ham  Go until jurong point, crazy.. Available only ...\n",
       "1   ham                      Ok lar... Joking wif u oni...\n",
       "2  spam  Free entry in 2 a wkly comp to win FA Cup fina...\n",
       "3   ham  U dun say so early hor... U c already then say...\n",
       "4   ham  Nah I don't think he goes to usf, he lives aro..."
      ]
     },
     "execution_count": 7,
     "metadata": {},
     "output_type": "execute_result"
    }
   ],
   "source": [
    "df1.head()"
   ]
  },
  {
   "cell_type": "code",
   "execution_count": 8,
   "id": "7e04698aa605e2b3",
   "metadata": {
    "ExecuteTime": {
     "end_time": "2023-10-31T13:20:09.443505300Z",
     "start_time": "2023-10-31T13:20:09.422681200Z"
    }
   },
   "outputs": [],
   "source": [
    "df1.rename( columns={'v1':'target' , 'v2':'sms'}, inplace=True)"
   ]
  },
  {
   "cell_type": "code",
   "execution_count": 9,
   "id": "d1af53bdd6850554",
   "metadata": {
    "ExecuteTime": {
     "end_time": "2023-10-31T13:20:09.894423900Z",
     "start_time": "2023-10-31T13:20:09.876358300Z"
    }
   },
   "outputs": [
    {
     "data": {
      "text/plain": [
       "target    0\n",
       "sms       0\n",
       "dtype: int64"
      ]
     },
     "execution_count": 9,
     "metadata": {},
     "output_type": "execute_result"
    }
   ],
   "source": [
    "#checking null values\n",
    "df1.isnull().sum()"
   ]
  },
  {
   "cell_type": "code",
   "execution_count": 10,
   "id": "5d06ae184fc03170",
   "metadata": {
    "ExecuteTime": {
     "end_time": "2023-10-31T13:20:10.317521700Z",
     "start_time": "2023-10-31T13:20:10.294989200Z"
    }
   },
   "outputs": [
    {
     "data": {
      "text/plain": [
       "array(['ham', 'spam'], dtype=object)"
      ]
     },
     "execution_count": 10,
     "metadata": {},
     "output_type": "execute_result"
    }
   ],
   "source": [
    "df1.target.unique()"
   ]
  },
  {
   "cell_type": "code",
   "execution_count": 11,
   "id": "3d42b05e7ee5b7d0",
   "metadata": {
    "ExecuteTime": {
     "end_time": "2023-10-31T13:20:10.801519Z",
     "start_time": "2023-10-31T13:20:10.781765500Z"
    }
   },
   "outputs": [],
   "source": [
    "#encoding target data\n",
    "df1['target_encoded'] = df1['target'].apply(lambda x: 0 if x=='ham' else 1)"
   ]
  },
  {
   "cell_type": "code",
   "execution_count": 12,
   "id": "c2f8a3a237458bfd",
   "metadata": {
    "ExecuteTime": {
     "end_time": "2023-10-31T13:20:11.304604900Z",
     "start_time": "2023-10-31T13:20:11.277607Z"
    }
   },
   "outputs": [
    {
     "data": {
      "text/html": [
       "<div>\n",
       "<style scoped>\n",
       "    .dataframe tbody tr th:only-of-type {\n",
       "        vertical-align: middle;\n",
       "    }\n",
       "\n",
       "    .dataframe tbody tr th {\n",
       "        vertical-align: top;\n",
       "    }\n",
       "\n",
       "    .dataframe thead th {\n",
       "        text-align: right;\n",
       "    }\n",
       "</style>\n",
       "<table border=\"1\" class=\"dataframe\">\n",
       "  <thead>\n",
       "    <tr style=\"text-align: right;\">\n",
       "      <th></th>\n",
       "      <th>target</th>\n",
       "      <th>sms</th>\n",
       "      <th>target_encoded</th>\n",
       "    </tr>\n",
       "  </thead>\n",
       "  <tbody>\n",
       "    <tr>\n",
       "      <th>0</th>\n",
       "      <td>ham</td>\n",
       "      <td>Go until jurong point, crazy.. Available only ...</td>\n",
       "      <td>0</td>\n",
       "    </tr>\n",
       "    <tr>\n",
       "      <th>1</th>\n",
       "      <td>ham</td>\n",
       "      <td>Ok lar... Joking wif u oni...</td>\n",
       "      <td>0</td>\n",
       "    </tr>\n",
       "    <tr>\n",
       "      <th>2</th>\n",
       "      <td>spam</td>\n",
       "      <td>Free entry in 2 a wkly comp to win FA Cup fina...</td>\n",
       "      <td>1</td>\n",
       "    </tr>\n",
       "    <tr>\n",
       "      <th>3</th>\n",
       "      <td>ham</td>\n",
       "      <td>U dun say so early hor... U c already then say...</td>\n",
       "      <td>0</td>\n",
       "    </tr>\n",
       "    <tr>\n",
       "      <th>4</th>\n",
       "      <td>ham</td>\n",
       "      <td>Nah I don't think he goes to usf, he lives aro...</td>\n",
       "      <td>0</td>\n",
       "    </tr>\n",
       "    <tr>\n",
       "      <th>5</th>\n",
       "      <td>spam</td>\n",
       "      <td>FreeMsg Hey there darling it's been 3 week's n...</td>\n",
       "      <td>1</td>\n",
       "    </tr>\n",
       "    <tr>\n",
       "      <th>6</th>\n",
       "      <td>ham</td>\n",
       "      <td>Even my brother is not like to speak with me. ...</td>\n",
       "      <td>0</td>\n",
       "    </tr>\n",
       "    <tr>\n",
       "      <th>7</th>\n",
       "      <td>ham</td>\n",
       "      <td>As per your request 'Melle Melle (Oru Minnamin...</td>\n",
       "      <td>0</td>\n",
       "    </tr>\n",
       "    <tr>\n",
       "      <th>8</th>\n",
       "      <td>spam</td>\n",
       "      <td>WINNER!! As a valued network customer you have...</td>\n",
       "      <td>1</td>\n",
       "    </tr>\n",
       "    <tr>\n",
       "      <th>9</th>\n",
       "      <td>spam</td>\n",
       "      <td>Had your mobile 11 months or more? U R entitle...</td>\n",
       "      <td>1</td>\n",
       "    </tr>\n",
       "    <tr>\n",
       "      <th>10</th>\n",
       "      <td>ham</td>\n",
       "      <td>I'm gonna be home soon and i don't want to tal...</td>\n",
       "      <td>0</td>\n",
       "    </tr>\n",
       "    <tr>\n",
       "      <th>11</th>\n",
       "      <td>spam</td>\n",
       "      <td>SIX chances to win CASH! From 100 to 20,000 po...</td>\n",
       "      <td>1</td>\n",
       "    </tr>\n",
       "    <tr>\n",
       "      <th>12</th>\n",
       "      <td>spam</td>\n",
       "      <td>URGENT! You have won a 1 week FREE membership ...</td>\n",
       "      <td>1</td>\n",
       "    </tr>\n",
       "    <tr>\n",
       "      <th>13</th>\n",
       "      <td>ham</td>\n",
       "      <td>I've been searching for the right words to tha...</td>\n",
       "      <td>0</td>\n",
       "    </tr>\n",
       "    <tr>\n",
       "      <th>14</th>\n",
       "      <td>ham</td>\n",
       "      <td>I HAVE A DATE ON SUNDAY WITH WILL!!</td>\n",
       "      <td>0</td>\n",
       "    </tr>\n",
       "    <tr>\n",
       "      <th>15</th>\n",
       "      <td>spam</td>\n",
       "      <td>XXXMobileMovieClub: To use your credit, click ...</td>\n",
       "      <td>1</td>\n",
       "    </tr>\n",
       "    <tr>\n",
       "      <th>16</th>\n",
       "      <td>ham</td>\n",
       "      <td>Oh k...i'm watching here:)</td>\n",
       "      <td>0</td>\n",
       "    </tr>\n",
       "    <tr>\n",
       "      <th>17</th>\n",
       "      <td>ham</td>\n",
       "      <td>Eh u remember how 2 spell his name... Yes i di...</td>\n",
       "      <td>0</td>\n",
       "    </tr>\n",
       "    <tr>\n",
       "      <th>18</th>\n",
       "      <td>ham</td>\n",
       "      <td>Fine if thatåÕs the way u feel. ThatåÕs the wa...</td>\n",
       "      <td>0</td>\n",
       "    </tr>\n",
       "    <tr>\n",
       "      <th>19</th>\n",
       "      <td>spam</td>\n",
       "      <td>England v Macedonia - dont miss the goals/team...</td>\n",
       "      <td>1</td>\n",
       "    </tr>\n",
       "  </tbody>\n",
       "</table>\n",
       "</div>"
      ],
      "text/plain": [
       "   target                                                sms  target_encoded\n",
       "0     ham  Go until jurong point, crazy.. Available only ...               0\n",
       "1     ham                      Ok lar... Joking wif u oni...               0\n",
       "2    spam  Free entry in 2 a wkly comp to win FA Cup fina...               1\n",
       "3     ham  U dun say so early hor... U c already then say...               0\n",
       "4     ham  Nah I don't think he goes to usf, he lives aro...               0\n",
       "5    spam  FreeMsg Hey there darling it's been 3 week's n...               1\n",
       "6     ham  Even my brother is not like to speak with me. ...               0\n",
       "7     ham  As per your request 'Melle Melle (Oru Minnamin...               0\n",
       "8    spam  WINNER!! As a valued network customer you have...               1\n",
       "9    spam  Had your mobile 11 months or more? U R entitle...               1\n",
       "10    ham  I'm gonna be home soon and i don't want to tal...               0\n",
       "11   spam  SIX chances to win CASH! From 100 to 20,000 po...               1\n",
       "12   spam  URGENT! You have won a 1 week FREE membership ...               1\n",
       "13    ham  I've been searching for the right words to tha...               0\n",
       "14    ham                I HAVE A DATE ON SUNDAY WITH WILL!!               0\n",
       "15   spam  XXXMobileMovieClub: To use your credit, click ...               1\n",
       "16    ham                         Oh k...i'm watching here:)               0\n",
       "17    ham  Eh u remember how 2 spell his name... Yes i di...               0\n",
       "18    ham  Fine if thatåÕs the way u feel. ThatåÕs the wa...               0\n",
       "19   spam  England v Macedonia - dont miss the goals/team...               1"
      ]
     },
     "execution_count": 12,
     "metadata": {},
     "output_type": "execute_result"
    }
   ],
   "source": [
    "df1.head(20)"
   ]
  },
  {
   "cell_type": "code",
   "execution_count": 13,
   "id": "fa28c2f458d52a63",
   "metadata": {
    "ExecuteTime": {
     "end_time": "2023-10-31T13:20:11.701349700Z",
     "start_time": "2023-10-31T13:20:11.698330300Z"
    }
   },
   "outputs": [],
   "source": [
    "df2 = df1.drop('target' , axis=1 )"
   ]
  },
  {
   "cell_type": "code",
   "execution_count": 14,
   "id": "e1405a5229eadf10",
   "metadata": {
    "ExecuteTime": {
     "end_time": "2023-10-31T13:20:12.163394800Z",
     "start_time": "2023-10-31T13:20:12.140754300Z"
    }
   },
   "outputs": [
    {
     "data": {
      "text/html": [
       "<div>\n",
       "<style scoped>\n",
       "    .dataframe tbody tr th:only-of-type {\n",
       "        vertical-align: middle;\n",
       "    }\n",
       "\n",
       "    .dataframe tbody tr th {\n",
       "        vertical-align: top;\n",
       "    }\n",
       "\n",
       "    .dataframe thead th {\n",
       "        text-align: right;\n",
       "    }\n",
       "</style>\n",
       "<table border=\"1\" class=\"dataframe\">\n",
       "  <thead>\n",
       "    <tr style=\"text-align: right;\">\n",
       "      <th></th>\n",
       "      <th>sms</th>\n",
       "      <th>target_encoded</th>\n",
       "    </tr>\n",
       "  </thead>\n",
       "  <tbody>\n",
       "    <tr>\n",
       "      <th>0</th>\n",
       "      <td>Go until jurong point, crazy.. Available only ...</td>\n",
       "      <td>0</td>\n",
       "    </tr>\n",
       "    <tr>\n",
       "      <th>1</th>\n",
       "      <td>Ok lar... Joking wif u oni...</td>\n",
       "      <td>0</td>\n",
       "    </tr>\n",
       "    <tr>\n",
       "      <th>2</th>\n",
       "      <td>Free entry in 2 a wkly comp to win FA Cup fina...</td>\n",
       "      <td>1</td>\n",
       "    </tr>\n",
       "    <tr>\n",
       "      <th>3</th>\n",
       "      <td>U dun say so early hor... U c already then say...</td>\n",
       "      <td>0</td>\n",
       "    </tr>\n",
       "    <tr>\n",
       "      <th>4</th>\n",
       "      <td>Nah I don't think he goes to usf, he lives aro...</td>\n",
       "      <td>0</td>\n",
       "    </tr>\n",
       "  </tbody>\n",
       "</table>\n",
       "</div>"
      ],
      "text/plain": [
       "                                                 sms  target_encoded\n",
       "0  Go until jurong point, crazy.. Available only ...               0\n",
       "1                      Ok lar... Joking wif u oni...               0\n",
       "2  Free entry in 2 a wkly comp to win FA Cup fina...               1\n",
       "3  U dun say so early hor... U c already then say...               0\n",
       "4  Nah I don't think he goes to usf, he lives aro...               0"
      ]
     },
     "execution_count": 14,
     "metadata": {},
     "output_type": "execute_result"
    }
   ],
   "source": [
    "df2.head()"
   ]
  },
  {
   "cell_type": "code",
   "execution_count": 15,
   "id": "665d328eff428246",
   "metadata": {
    "ExecuteTime": {
     "end_time": "2023-10-31T13:20:12.596500400Z",
     "start_time": "2023-10-31T13:20:12.591450600Z"
    }
   },
   "outputs": [
    {
     "data": {
      "text/plain": [
       "(5572, 2)"
      ]
     },
     "execution_count": 15,
     "metadata": {},
     "output_type": "execute_result"
    }
   ],
   "source": [
    "df2.shape"
   ]
  },
  {
   "cell_type": "code",
   "execution_count": 16,
   "id": "4a693e4c29f158fc",
   "metadata": {
    "ExecuteTime": {
     "end_time": "2023-10-31T13:20:19.251922900Z",
     "start_time": "2023-10-31T13:20:19.213424900Z"
    }
   },
   "outputs": [
    {
     "data": {
      "text/plain": [
       "0     Go until jurong point, crazy.. Available only ...\n",
       "1                         Ok lar... Joking wif u oni...\n",
       "2     Free entry in 2 a wkly comp to win FA Cup fina...\n",
       "3     U dun say so early hor... U c already then say...\n",
       "4     Nah I don't think he goes to usf, he lives aro...\n",
       "5     FreeMsg Hey there darling it's been 3 week's n...\n",
       "6     Even my brother is not like to speak with me. ...\n",
       "7     As per your request 'Melle Melle (Oru Minnamin...\n",
       "8     WINNER!! As a valued network customer you have...\n",
       "9     Had your mobile 11 months or more? U R entitle...\n",
       "10    I'm gonna be home soon and i don't want to tal...\n",
       "11    SIX chances to win CASH! From 100 to 20,000 po...\n",
       "12    URGENT! You have won a 1 week FREE membership ...\n",
       "13    I've been searching for the right words to tha...\n",
       "14                  I HAVE A DATE ON SUNDAY WITH WILL!!\n",
       "15    XXXMobileMovieClub: To use your credit, click ...\n",
       "16                           Oh k...i'm watching here:)\n",
       "17    Eh u remember how 2 spell his name... Yes i di...\n",
       "18    Fine if thatåÕs the way u feel. ThatåÕs the wa...\n",
       "19    England v Macedonia - dont miss the goals/team...\n",
       "Name: sms, dtype: object"
      ]
     },
     "execution_count": 16,
     "metadata": {},
     "output_type": "execute_result"
    }
   ],
   "source": [
    "df2['sms'].head(20)"
   ]
  },
  {
   "cell_type": "markdown",
   "id": "e7cfdbe4a7dc0a6a",
   "metadata": {},
   "source": [
    "<h1>Data visualisation<h1>\n"
   ]
  },
  {
   "cell_type": "code",
   "execution_count": 17,
   "id": "2ceaa9411be30982",
   "metadata": {
    "ExecuteTime": {
     "end_time": "2023-10-31T13:20:19.987585500Z",
     "start_time": "2023-10-31T13:20:19.983217300Z"
    }
   },
   "outputs": [],
   "source": [
    "import matplotlib.pyplot as plt\n",
    "%matplotlib inline"
   ]
  },
  {
   "cell_type": "code",
   "execution_count": 18,
   "id": "5ab56df25d108594",
   "metadata": {
    "ExecuteTime": {
     "end_time": "2023-10-31T13:20:20.633492300Z",
     "start_time": "2023-10-31T13:20:20.511200400Z"
    }
   },
   "outputs": [
    {
     "data": {
      "text/plain": [
       "Text(0, 0.5, 'Percentage')"
      ]
     },
     "execution_count": 18,
     "metadata": {},
     "output_type": "execute_result"
    },
    {
     "data": {
      "image/png": "[encoded data removed]",
      "text/plain": [
       "<Figure size 640x480 with 1 Axes>"
      ]
     },
     "metadata": {},
     "output_type": "display_data"
    }
   ],
   "source": [
    "#we can see here that there is imbalanced target distribution\n",
    "plt.bar(['spam' , 'not spam'] , [(len(df2[df2['target_encoded']==1])/len(df2['target_encoded']))*100 ,(len(df2[df2['target_encoded']==0])/len(df2['target_encoded']))*100 ])\n",
    "plt.xlabel('Categories')\n",
    "plt.ylabel('Percentage')"
   ]
  },
  {
   "cell_type": "code",
   "execution_count": 19,
   "id": "18826130107382c1",
   "metadata": {
    "ExecuteTime": {
     "end_time": "2023-10-31T13:20:21.542979700Z",
     "start_time": "2023-10-31T13:20:21.526570800Z"
    }
   },
   "outputs": [],
   "source": [
    "#sms data cleaning\n",
    "import re\n",
    "punctuation_pattern = r'[.!?;:\"\\-\\(\\)\\[\\]{}]'\n",
    "def text_cleaning(text_data):\n",
    "    text_data = text_data.lower()\n",
    "    text_data = re.sub(r'\\d+', '', text_data)\n",
    "    text_data = re.sub(punctuation_pattern, ' ', text_data)\n",
    "    return text_data"
   ]
  },
  {
   "cell_type": "code",
   "execution_count": 20,
   "id": "e95f85a76edeaa1e",
   "metadata": {
    "ExecuteTime": {
     "end_time": "2023-10-31T13:20:22.639347400Z",
     "start_time": "2023-10-31T13:20:22.590408200Z"
    }
   },
   "outputs": [],
   "source": [
    "df3 = df2.copy()\n",
    "df3['cleaned_sms_text'] = df3['sms'].apply(lambda x:text_cleaning(x))"
   ]
  },
  {
   "cell_type": "code",
   "execution_count": 21,
   "id": "a0cc90536d6fc854",
   "metadata": {
    "ExecuteTime": {
     "end_time": "2023-10-31T13:20:23.068484400Z",
     "start_time": "2023-10-31T13:20:23.045321500Z"
    }
   },
   "outputs": [
    {
     "data": {
      "text/html": [
       "<div>\n",
       "<style scoped>\n",
       "    .dataframe tbody tr th:only-of-type {\n",
       "        vertical-align: middle;\n",
       "    }\n",
       "\n",
       "    .dataframe tbody tr th {\n",
       "        vertical-align: top;\n",
       "    }\n",
       "\n",
       "    .dataframe thead th {\n",
       "        text-align: right;\n",
       "    }\n",
       "</style>\n",
       "<table border=\"1\" class=\"dataframe\">\n",
       "  <thead>\n",
       "    <tr style=\"text-align: right;\">\n",
       "      <th></th>\n",
       "      <th>sms</th>\n",
       "      <th>target_encoded</th>\n",
       "      <th>cleaned_sms_text</th>\n",
       "    </tr>\n",
       "  </thead>\n",
       "  <tbody>\n",
       "    <tr>\n",
       "      <th>0</th>\n",
       "      <td>Go until jurong point, crazy.. Available only ...</td>\n",
       "      <td>0</td>\n",
       "      <td>go until jurong point, crazy   available only ...</td>\n",
       "    </tr>\n",
       "    <tr>\n",
       "      <th>1</th>\n",
       "      <td>Ok lar... Joking wif u oni...</td>\n",
       "      <td>0</td>\n",
       "      <td>ok lar    joking wif u oni</td>\n",
       "    </tr>\n",
       "    <tr>\n",
       "      <th>2</th>\n",
       "      <td>Free entry in 2 a wkly comp to win FA Cup fina...</td>\n",
       "      <td>1</td>\n",
       "      <td>free entry in  a wkly comp to win fa cup final...</td>\n",
       "    </tr>\n",
       "    <tr>\n",
       "      <th>3</th>\n",
       "      <td>U dun say so early hor... U c already then say...</td>\n",
       "      <td>0</td>\n",
       "      <td>u dun say so early hor    u c already then say</td>\n",
       "    </tr>\n",
       "    <tr>\n",
       "      <th>4</th>\n",
       "      <td>Nah I don't think he goes to usf, he lives aro...</td>\n",
       "      <td>0</td>\n",
       "      <td>nah i don't think he goes to usf, he lives aro...</td>\n",
       "    </tr>\n",
       "    <tr>\n",
       "      <th>...</th>\n",
       "      <td>...</td>\n",
       "      <td>...</td>\n",
       "      <td>...</td>\n",
       "    </tr>\n",
       "    <tr>\n",
       "      <th>95</th>\n",
       "      <td>Your free ringtone is waiting to be collected....</td>\n",
       "      <td>1</td>\n",
       "      <td>your free ringtone is waiting to be collected ...</td>\n",
       "    </tr>\n",
       "    <tr>\n",
       "      <th>96</th>\n",
       "      <td>Watching telugu movie..wat abt u?</td>\n",
       "      <td>0</td>\n",
       "      <td>watching telugu movie  wat abt u</td>\n",
       "    </tr>\n",
       "    <tr>\n",
       "      <th>97</th>\n",
       "      <td>i see. When we finish we have loads of loans t...</td>\n",
       "      <td>0</td>\n",
       "      <td>i see  when we finish we have loads of loans t...</td>\n",
       "    </tr>\n",
       "    <tr>\n",
       "      <th>98</th>\n",
       "      <td>Hi. Wk been ok - on hols now! Yes on for a bit...</td>\n",
       "      <td>0</td>\n",
       "      <td>hi  wk been ok   on hols now  yes on for a bit...</td>\n",
       "    </tr>\n",
       "    <tr>\n",
       "      <th>99</th>\n",
       "      <td>Please don't text me anymore. I have nothing e...</td>\n",
       "      <td>0</td>\n",
       "      <td>please don't text me anymore  i have nothing e...</td>\n",
       "    </tr>\n",
       "  </tbody>\n",
       "</table>\n",
       "<p>100 rows × 3 columns</p>\n",
       "</div>"
      ],
      "text/plain": [
       "                                                  sms  target_encoded  \\\n",
       "0   Go until jurong point, crazy.. Available only ...               0   \n",
       "1                       Ok lar... Joking wif u oni...               0   \n",
       "2   Free entry in 2 a wkly comp to win FA Cup fina...               1   \n",
       "3   U dun say so early hor... U c already then say...               0   \n",
       "4   Nah I don't think he goes to usf, he lives aro...               0   \n",
       "..                                                ...             ...   \n",
       "95  Your free ringtone is waiting to be collected....               1   \n",
       "96                  Watching telugu movie..wat abt u?               0   \n",
       "97  i see. When we finish we have loads of loans t...               0   \n",
       "98  Hi. Wk been ok - on hols now! Yes on for a bit...               0   \n",
       "99  Please don't text me anymore. I have nothing e...               0   \n",
       "\n",
       "                                     cleaned_sms_text  \n",
       "0   go until jurong point, crazy   available only ...  \n",
       "1                       ok lar    joking wif u oni     \n",
       "2   free entry in  a wkly comp to win fa cup final...  \n",
       "3   u dun say so early hor    u c already then say     \n",
       "4   nah i don't think he goes to usf, he lives aro...  \n",
       "..                                                ...  \n",
       "95  your free ringtone is waiting to be collected ...  \n",
       "96                  watching telugu movie  wat abt u   \n",
       "97  i see  when we finish we have loads of loans t...  \n",
       "98  hi  wk been ok   on hols now  yes on for a bit...  \n",
       "99  please don't text me anymore  i have nothing e...  \n",
       "\n",
       "[100 rows x 3 columns]"
      ]
     },
     "execution_count": 21,
     "metadata": {},
     "output_type": "execute_result"
    }
   ],
   "source": [
    "df3.head(100)"
   ]
  },
  {
   "cell_type": "code",
   "execution_count": 22,
   "id": "c7df9c548cf350ba",
   "metadata": {
    "ExecuteTime": {
     "end_time": "2023-10-31T13:20:23.661311700Z",
     "start_time": "2023-10-31T13:20:23.640968200Z"
    }
   },
   "outputs": [
    {
     "data": {
      "text/html": [
       "<div>\n",
       "<style scoped>\n",
       "    .dataframe tbody tr th:only-of-type {\n",
       "        vertical-align: middle;\n",
       "    }\n",
       "\n",
       "    .dataframe tbody tr th {\n",
       "        vertical-align: top;\n",
       "    }\n",
       "\n",
       "    .dataframe thead th {\n",
       "        text-align: right;\n",
       "    }\n",
       "</style>\n",
       "<table border=\"1\" class=\"dataframe\">\n",
       "  <thead>\n",
       "    <tr style=\"text-align: right;\">\n",
       "      <th></th>\n",
       "      <th>target_encoded</th>\n",
       "      <th>cleaned_sms_text</th>\n",
       "    </tr>\n",
       "  </thead>\n",
       "  <tbody>\n",
       "    <tr>\n",
       "      <th>0</th>\n",
       "      <td>0</td>\n",
       "      <td>go until jurong point, crazy   available only ...</td>\n",
       "    </tr>\n",
       "    <tr>\n",
       "      <th>1</th>\n",
       "      <td>0</td>\n",
       "      <td>ok lar    joking wif u oni</td>\n",
       "    </tr>\n",
       "    <tr>\n",
       "      <th>2</th>\n",
       "      <td>1</td>\n",
       "      <td>free entry in  a wkly comp to win fa cup final...</td>\n",
       "    </tr>\n",
       "    <tr>\n",
       "      <th>3</th>\n",
       "      <td>0</td>\n",
       "      <td>u dun say so early hor    u c already then say</td>\n",
       "    </tr>\n",
       "    <tr>\n",
       "      <th>4</th>\n",
       "      <td>0</td>\n",
       "      <td>nah i don't think he goes to usf, he lives aro...</td>\n",
       "    </tr>\n",
       "  </tbody>\n",
       "</table>\n",
       "</div>"
      ],
      "text/plain": [
       "   target_encoded                                   cleaned_sms_text\n",
       "0               0  go until jurong point, crazy   available only ...\n",
       "1               0                      ok lar    joking wif u oni   \n",
       "2               1  free entry in  a wkly comp to win fa cup final...\n",
       "3               0  u dun say so early hor    u c already then say   \n",
       "4               0  nah i don't think he goes to usf, he lives aro..."
      ]
     },
     "execution_count": 22,
     "metadata": {},
     "output_type": "execute_result"
    }
   ],
   "source": [
    "df4 = df3.drop(columns={'sms'})\n",
    "df4.head()"
   ]
  },
  {
   "cell_type": "code",
   "execution_count": 23,
   "id": "2790db8acb52dc56",
   "metadata": {
    "ExecuteTime": {
     "end_time": "2023-10-31T13:20:24.434181900Z",
     "start_time": "2023-10-31T13:20:24.430636300Z"
    }
   },
   "outputs": [],
   "source": [
    "from sklearn.feature_extraction.text import TfidfVectorizer\n",
    "from sklearn import svm\n",
    "from sklearn.model_selection import ShuffleSplit"
   ]
  },
  {
   "cell_type": "code",
   "execution_count": 24,
   "id": "aaec5d74c4b01e2c",
   "metadata": {
    "ExecuteTime": {
     "end_time": "2023-10-31T13:20:25.215950300Z",
     "start_time": "2023-10-31T13:20:25.127040700Z"
    }
   },
   "outputs": [],
   "source": [
    "#using tf idf to encode sms data\n",
    "vector = TfidfVectorizer()\n",
    "tfidf_matrix = vector.fit_transform(df4['cleaned_sms_text'])\n",
    "Y = df4['target_encoded']"
   ]
  },
  {
   "cell_type": "markdown",
   "id": "38dc0686e3229ccf",
   "metadata": {},
   "source": [
    "<h1>Model building and hyper param Tuning<h1>"
   ]
  },
  {
   "cell_type": "code",
   "execution_count": 25,
   "id": "435367343922de3b",
   "metadata": {
    "ExecuteTime": {
     "end_time": "2023-10-31T13:20:26.391267300Z",
     "start_time": "2023-10-31T13:20:26.378790200Z"
    }
   },
   "outputs": [],
   "source": [
    "from sklearn.ensemble import RandomForestClassifier\n",
    "from sklearn.linear_model import LogisticRegression\n",
    "from sklearn.naive_bayes import MultinomialNB\n",
    "from sklearn.model_selection import GridSearchCV\n",
    "from sklearn.metrics import make_scorer, f1_score \n",
    "#hyper param tuning and getting f1 score due to imbalanced target data\n",
    "def hyper_param_tuning(x,y):\n",
    "    models={\n",
    "        'SVM':{\n",
    "            'model':svm.SVC(),\n",
    "            'params':{\n",
    "                'C':[1,10,20], \n",
    "                'kernel': ['linear', 'rbf'],\n",
    "            }\n",
    "        },\n",
    "        'Multinomial_NB':{\n",
    "            'model':MultinomialNB(),\n",
    "            'params':{\n",
    "                'alpha':[1.0, 2.0, 5.0]\n",
    "            }\n",
    "        },\n",
    "\n",
    "    \n",
    "        'Logistic_regression':{\n",
    "            'model':LogisticRegression(max_iter=1000),\n",
    "            'params':{\n",
    "                'C':[1,5,10]\n",
    "            }\n",
    "        },\n",
    "\n",
    "        'Random_Forest': {\n",
    "            'model': RandomForestClassifier(),\n",
    "            'params': {\n",
    "                'n_estimators': [10, 20,50],\n",
    "                'max_depth': [None, 10],\n",
    "                \n",
    "            }\n",
    "        }\n",
    "    }\n",
    "    \n",
    "    scores = []\n",
    "    f1_scorer = make_scorer(f1_score)\n",
    "    \n",
    "    cv = ShuffleSplit(n_splits=5 , test_size=0.2 , random_state=0)\n",
    "    for algo , params in models.items():\n",
    "        grid_cv = GridSearchCV(params['model'],params['params'] ,scoring=f1_scorer, cv=cv , return_train_score=False )\n",
    "        grid_cv.fit(x,y)\n",
    "        scores.append({\n",
    "            'model_name': algo,\n",
    "            'best_f1_score': grid_cv.best_score_,\n",
    "            'best_params': grid_cv.best_params_\n",
    "            \n",
    "        })\n",
    "    \n",
    "    \n",
    "    scores_df = pd.DataFrame(scores,columns=['model_name','best_f1_score','best_params'])    \n",
    "    return scores_df    "
   ]
  },
  {
   "cell_type": "code",
   "execution_count": 26,
   "id": "13d0757f47999e5c",
   "metadata": {
    "ExecuteTime": {
     "end_time": "2023-10-31T13:21:43.394750200Z",
     "start_time": "2023-10-31T13:20:29.325391800Z"
    }
   },
   "outputs": [
    {
     "data": {
      "text/html": [
       "<div>\n",
       "<style scoped>\n",
       "    .dataframe tbody tr th:only-of-type {\n",
       "        vertical-align: middle;\n",
       "    }\n",
       "\n",
       "    .dataframe tbody tr th {\n",
       "        vertical-align: top;\n",
       "    }\n",
       "\n",
       "    .dataframe thead th {\n",
       "        text-align: right;\n",
       "    }\n",
       "</style>\n",
       "<table border=\"1\" class=\"dataframe\">\n",
       "  <thead>\n",
       "    <tr style=\"text-align: right;\">\n",
       "      <th></th>\n",
       "      <th>model_name</th>\n",
       "      <th>best_f1_score</th>\n",
       "      <th>best_params</th>\n",
       "    </tr>\n",
       "  </thead>\n",
       "  <tbody>\n",
       "    <tr>\n",
       "      <th>0</th>\n",
       "      <td>SVM</td>\n",
       "      <td>0.933372</td>\n",
       "      <td>{'C': 1, 'kernel': 'linear'}</td>\n",
       "    </tr>\n",
       "    <tr>\n",
       "      <th>1</th>\n",
       "      <td>Multinomial_NB</td>\n",
       "      <td>0.814164</td>\n",
       "      <td>{'alpha': 1.0}</td>\n",
       "    </tr>\n",
       "    <tr>\n",
       "      <th>2</th>\n",
       "      <td>Logistic_regression</td>\n",
       "      <td>0.921228</td>\n",
       "      <td>{'C': 10}</td>\n",
       "    </tr>\n",
       "    <tr>\n",
       "      <th>3</th>\n",
       "      <td>Random_Forest</td>\n",
       "      <td>0.896103</td>\n",
       "      <td>{'max_depth': None, 'n_estimators': 50}</td>\n",
       "    </tr>\n",
       "  </tbody>\n",
       "</table>\n",
       "</div>"
      ],
      "text/plain": [
       "            model_name  best_f1_score                              best_params\n",
       "0                  SVM       0.933372             {'C': 1, 'kernel': 'linear'}\n",
       "1       Multinomial_NB       0.814164                           {'alpha': 1.0}\n",
       "2  Logistic_regression       0.921228                                {'C': 10}\n",
       "3        Random_Forest       0.896103  {'max_depth': None, 'n_estimators': 50}"
      ]
     },
     "execution_count": 26,
     "metadata": {},
     "output_type": "execute_result"
    }
   ],
   "source": [
    "hyper_param_tuning(tfidf_matrix,df4['target_encoded'])"
   ]
  },
  {
   "cell_type": "code",
   "execution_count": 27,
   "id": "5d6e065e0971472e",
   "metadata": {
    "ExecuteTime": {
     "end_time": "2023-10-31T13:22:36.199573300Z",
     "start_time": "2023-10-31T13:22:35.673574500Z"
    }
   },
   "outputs": [
    {
     "data": {
      "text/html": [
       "<style>#sk-container-id-1 {color: black;background-color: white;}#sk-container-id-1 pre{padding: 0;}#sk-container-id-1 div.sk-toggleable {background-color: white;}#sk-container-id-1 label.sk-toggleable__label {cursor: pointer;display: block;width: 100%;margin-bottom: 0;padding: 0.3em;box-sizing: border-box;text-align: center;}#sk-container-id-1 label.sk-toggleable__label-arrow:before {content: \"▸\";float: left;margin-right: 0.25em;color: #696969;}#sk-container-id-1 label.sk-toggleable__label-arrow:hover:before {color: black;}#sk-container-id-1 div.sk-estimator:hover label.sk-toggleable__label-arrow:before {color: black;}#sk-container-id-1 div.sk-toggleable__content {max-height: 0;max-width: 0;overflow: hidden;text-align: left;background-color: #f0f8ff;}#sk-container-id-1 div.sk-toggleable__content pre {margin: 0.2em;color: black;border-radius: 0.25em;background-color: #f0f8ff;}#sk-container-id-1 input.sk-toggleable__control:checked~div.sk-toggleable__content {max-height: 200px;max-width: 100%;overflow: auto;}#sk-container-id-1 input.sk-toggleable__control:checked~label.sk-toggleable__label-arrow:before {content: \"▾\";}#sk-container-id-1 div.sk-estimator input.sk-toggleable__control:checked~label.sk-toggleable__label {background-color: #d4ebff;}#sk-container-id-1 div.sk-label input.sk-toggleable__control:checked~label.sk-toggleable__label {background-color: #d4ebff;}#sk-container-id-1 input.sk-hidden--visually {border: 0;clip: rect(1px 1px 1px 1px);clip: rect(1px, 1px, 1px, 1px);height: 1px;margin: -1px;overflow: hidden;padding: 0;position: absolute;width: 1px;}#sk-container-id-1 div.sk-estimator {font-family: monospace;background-color: #f0f8ff;border: 1px dotted black;border-radius: 0.25em;box-sizing: border-box;margin-bottom: 0.5em;}#sk-container-id-1 div.sk-estimator:hover {background-color: #d4ebff;}#sk-container-id-1 div.sk-parallel-item::after {content: \"\";width: 100%;border-bottom: 1px solid gray;flex-grow: 1;}#sk-container-id-1 div.sk-label:hover label.sk-toggleable__label {background-color: #d4ebff;}#sk-container-id-1 div.sk-serial::before {content: \"\";position: absolute;border-left: 1px solid gray;box-sizing: border-box;top: 0;bottom: 0;left: 50%;z-index: 0;}#sk-container-id-1 div.sk-serial {display: flex;flex-direction: column;align-items: center;background-color: white;padding-right: 0.2em;padding-left: 0.2em;position: relative;}#sk-container-id-1 div.sk-item {position: relative;z-index: 1;}#sk-container-id-1 div.sk-parallel {display: flex;align-items: stretch;justify-content: center;background-color: white;position: relative;}#sk-container-id-1 div.sk-item::before, #sk-container-id-1 div.sk-parallel-item::before {content: \"\";position: absolute;border-left: 1px solid gray;box-sizing: border-box;top: 0;bottom: 0;left: 50%;z-index: -1;}#sk-container-id-1 div.sk-parallel-item {display: flex;flex-direction: column;z-index: 1;position: relative;background-color: white;}#sk-container-id-1 div.sk-parallel-item:first-child::after {align-self: flex-end;width: 50%;}#sk-container-id-1 div.sk-parallel-item:last-child::after {align-self: flex-start;width: 50%;}#sk-container-id-1 div.sk-parallel-item:only-child::after {width: 0;}#sk-container-id-1 div.sk-dashed-wrapped {border: 1px dashed gray;margin: 0 0.4em 0.5em 0.4em;box-sizing: border-box;padding-bottom: 0.4em;background-color: white;}#sk-container-id-1 div.sk-label label {font-family: monospace;font-weight: bold;display: inline-block;line-height: 1.2em;}#sk-container-id-1 div.sk-label-container {text-align: center;}#sk-container-id-1 div.sk-container {/* jupyter's `normalize.less` sets `[hidden] { display: none; }` but bootstrap.min.css set `[hidden] { display: none !important; }` so we also need the `!important` here to be able to override the default hidden behavior on the sphinx rendered scikit-learn.org. See: https://github.com/scikit-learn/scikit-learn/issues/21755 */display: inline-block !important;position: relative;}#sk-container-id-1 div.sk-text-repr-fallback {display: none;}</style><div id=\"sk-container-id-1\" class=\"sk-top-container\"><div class=\"sk-text-repr-fallback\"><pre>SVC(C=1, kernel=&#x27;linear&#x27;)</pre><b>In a Jupyter environment, please rerun this cell to show the HTML representation or trust the notebook. <br />On GitHub, the HTML representation is unable to render, please try loading this page with nbviewer.org.</b></div><div class=\"sk-container\" hidden><div class=\"sk-item\"><div class=\"sk-estimator sk-toggleable\"><input class=\"sk-toggleable__control sk-hidden--visually\" id=\"sk-estimator-id-1\" type=\"checkbox\" checked><label for=\"sk-estimator-id-1\" class=\"sk-toggleable__label sk-toggleable__label-arrow\">SVC</label><div class=\"sk-toggleable__content\"><pre>SVC(C=1, kernel=&#x27;linear&#x27;)</pre></div></div></div></div></div>"
      ],
      "text/plain": [
       "SVC(C=1, kernel='linear')"
      ]
     },
     "execution_count": 27,
     "metadata": {},
     "output_type": "execute_result"
    }
   ],
   "source": [
    "from sklearn.model_selection import train_test_split\n",
    "X_train , X_test , Y_train , Y_test = train_test_split(tfidf_matrix,df4['target_encoded'] , test_size=0.25 , random_state=10 )\n",
    "model = svm.SVC(C=1 , kernel='linear')\n",
    "model.fit(X_train,Y_train)"
   ]
  },
  {
   "cell_type": "markdown",
   "id": "98f77f6ef9a1fdc4",
   "metadata": {},
   "source": [
    "<h1>Model Evaluation<h1>"
   ]
  },
  {
   "cell_type": "code",
   "execution_count": 28,
   "id": "7641441ed7d733a9",
   "metadata": {
    "ExecuteTime": {
     "end_time": "2023-10-31T13:22:47.143520800Z",
     "start_time": "2023-10-31T13:22:46.978321100Z"
    }
   },
   "outputs": [
    {
     "name": "stdout",
     "output_type": "stream",
     "text": [
      "[[1197    4]\n",
      " [  19  173]]\n"
     ]
    }
   ],
   "source": [
    "from sklearn.metrics import accuracy_score,confusion_matrix,precision_score\n",
    "Y_pred = model.predict(X_test)\n",
    "#confusion matrix\n",
    "print(confusion_matrix(Y_test,Y_pred))"
   ]
  },
  {
   "cell_type": "code",
   "execution_count": 29,
   "id": "bbecae45c77f2f2f",
   "metadata": {
    "ExecuteTime": {
     "end_time": "2023-10-31T13:22:49.167907300Z",
     "start_time": "2023-10-31T13:22:49.150814800Z"
    }
   },
   "outputs": [
    {
     "name": "stdout",
     "output_type": "stream",
     "text": [
      "              precision    recall  f1-score   support\n",
      "\n",
      "           0       0.98      1.00      0.99      1201\n",
      "           1       0.98      0.90      0.94       192\n",
      "\n",
      "    accuracy                           0.98      1393\n",
      "   macro avg       0.98      0.95      0.96      1393\n",
      "weighted avg       0.98      0.98      0.98      1393\n"
     ]
    }
   ],
   "source": [
    "from sklearn.metrics import classification_report\n",
    "\n",
    "report = classification_report(Y_test, Y_pred)\n",
    "print(report)"
   ]
  },
  {
   "cell_type": "code",
   "execution_count": 30,
   "id": "2dc0b5fbcb2a7a8",
   "metadata": {
    "ExecuteTime": {
     "end_time": "2023-10-31T13:22:53.359781Z",
     "start_time": "2023-10-31T13:22:53.351799400Z"
    }
   },
   "outputs": [],
   "source": [
    "#custom prediction function\n",
    "def predict_spam(sms):\n",
    "    sms_cleaned = text_cleaning(sms)\n",
    "    sms_array =  [sms_cleaned]\n",
    "    sms_tf_idf_=vector.transform(sms_array)\n",
    "    is_spam=model.predict(sms_tf_idf_)\n",
    "    \n",
    "    return \"This email is spam\" if is_spam else \"This email isn't spam\"\n",
    "    "
   ]
  },
  {
   "cell_type": "code",
   "execution_count": 31,
   "id": "54c26d0dc1337629",
   "metadata": {
    "ExecuteTime": {
     "end_time": "2023-10-31T13:22:54.030548100Z",
     "start_time": "2023-10-31T13:22:54.020697500Z"
    }
   },
   "outputs": [
    {
     "data": {
      "text/plain": [
       "'This email is spam'"
      ]
     },
     "execution_count": 31,
     "metadata": {},
     "output_type": "execute_result"
    }
   ],
   "source": [
    "predict_spam(\"Call the number  to win a big prize ! \")"
   ]
  },
  {
   "cell_type": "code",
   "execution_count": 32,
   "id": "9994d9a38ddf5ee4",
   "metadata": {
    "ExecuteTime": {
     "end_time": "2023-10-31T13:22:54.943659900Z",
     "start_time": "2023-10-31T13:22:54.910155700Z"
    }
   },
   "outputs": [
    {
     "data": {
      "text/plain": [
       "\"This email isn't spam\""
      ]
     },
     "execution_count": 32,
     "metadata": {},
     "output_type": "execute_result"
    }
   ],
   "source": [
    "predict_spam(\"Call me later\")"
   ]
  }
 ],
 "metadata": {
  "kernelspec": {
   "display_name": "Python 3 (ipykernel)",
   "language": "python",
   "name": "python3"
  },
  "language_info": {
   "codemirror_mode": {
    "name": "ipython",
    "version": 3
   },
   "file_extension": ".py",
   "mimetype": "text/x-python",
   "name": "python",
   "nbconvert_exporter": "python",
   "pygments_lexer": "ipython3",
   "version": "3.11.3"
  }
 },
 "nbformat": 4,
 "nbformat_minor": 5
}
